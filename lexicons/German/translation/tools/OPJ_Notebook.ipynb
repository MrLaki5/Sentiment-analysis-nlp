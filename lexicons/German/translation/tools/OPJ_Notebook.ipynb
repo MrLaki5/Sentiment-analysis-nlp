{
 "cells": [
  {
   "cell_type": "code",
   "execution_count": 17,
   "metadata": {},
   "outputs": [],
   "source": [
    "f = open(\"E:\\Faks\\M\\OPJ\\Projekat\\leksikoni\\SON\\son-positive.txt\", \"r+\", encoding=\"utf8\")\n",
    "new_file = []\n",
    "for line in f:\n",
    "    line = line.lower()\n",
    "    if (line != '' and line != '\\n' and line != ' '):   \n",
    "        if (line[len(line) - 2] == ' '): \n",
    "            line = line[0:len(line) - 2] + '\\n'\n",
    "        words = line.split(\" \")\n",
    "        for i in range(len(words)):\n",
    "            words[i] = words[i].replace(',', '')\n",
    "            words[i] = words[i].replace('\\n', '')\n",
    "        del words[1:3]\n",
    "        new_line = \"\"\n",
    "        for i in range(len(words)):\n",
    "            if (i != 1 and len(words) > 1): \n",
    "                new_line += words[i] + ' ' + words[1] + '\\n'\n",
    "        if (new_line != '\\n'):\n",
    "            new_file.append(new_line)\n",
    "\n",
    "with open(\"../sent_ger_positive.txt\", \"w+\", encoding=\"utf8\") as f:\n",
    "    for i in new_file:\n",
    "        f.write(i)"
   ]
  },
  {
   "cell_type": "code",
   "execution_count": 22,
   "metadata": {},
   "outputs": [],
   "source": [
    "with open(\"../sent_ger_positive.txt\", \"r+\", encoding=\"utf8\") as f:\n",
    "    lines = f.readlines()\n",
    "lines.sort()\n",
    "\n",
    "dict = {}\n",
    "for line in lines:\n",
    "    words = line.split(\" \")\n",
    "    if words[0] in dict.keys():\n",
    "        if dict[words[0]] != double(words[1]):\n",
    "            words[1] = str((dict[words[0]] + double(words[1]) / 2)\n",
    "    else:\n",
    "        dict[words[0]] = double(words[1])\n",
    "        "
   ]
  }
 ],
 "metadata": {
  "kernelspec": {
   "display_name": "Python 3",
   "language": "python",
   "name": "python3"
  },
  "language_info": {
   "codemirror_mode": {
    "name": "ipython",
    "version": 3
   },
   "file_extension": ".py",
   "mimetype": "text/x-python",
   "name": "python",
   "nbconvert_exporter": "python",
   "pygments_lexer": "ipython3",
   "version": "3.7.1"
  }
 },
 "nbformat": 4,
 "nbformat_minor": 2
}
