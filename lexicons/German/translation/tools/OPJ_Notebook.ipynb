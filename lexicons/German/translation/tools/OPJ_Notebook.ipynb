{
 "cells": [
  {
   "cell_type": "code",
   "execution_count": 46,
   "metadata": {},
   "outputs": [],
   "source": [
    "f = open(\"E:\\Faks\\M\\OPJ\\Projekat\\leksikoni\\SON\\son-positive.txt\", \"r+\", encoding=\"utf8\")\n",
    "new_file = []\n",
    "for line in f:\n",
    "    line = line.lower()\n",
    "    if (line != '' and line != '\\n' and line != ' '):   \n",
    "        if (line[len(line) - 2] == ' '): \n",
    "            line = line[0:len(line) - 2] + '\\n'\n",
    "        words = line.split(\" \")\n",
    "        for i in range(len(words)):\n",
    "            words[i] = words[i].replace(',', '')\n",
    "            words[i] = words[i].replace('\\n', '')\n",
    "        del words[1:3]\n",
    "        new_line = \"\"\n",
    "        for i in range(len(words)):\n",
    "            if (i != 1 and len(words) > 1): \n",
    "                new_line += words[i] + ' ' + words[1] + '\\n'\n",
    "        if (new_line != '\\n'):\n",
    "            new_file.append(new_line)\n",
    "\n",
    "with open(\"../sent_ger_positive.txt\", \"w+\", encoding=\"utf8\") as f:\n",
    "    for i in new_file:\n",
    "        f.write(i)"
   ]
  },
  {
   "cell_type": "code",
   "execution_count": 49,
   "metadata": {},
   "outputs": [
    {
     "name": "stdout",
     "output_type": "stream",
     "text": [
      "['adekvatnost 0.004\\n', 'afirmacije 0.004\\n', 'agilan 0.1959\\n', 'agilniji 0.1959\\n', 'agilnost 0.09995\\n', 'akcija 0.004\\n', 'akcije 0.004\\n', 'aktivan 0.0911\\n', 'aktivnije 0.0911\\n', 'aktivniji 0.0911\\n', 'aktivnost 0.004\\n', 'aktivnosti 0.004\\n', 'aktuelan 0.004\\n', 'aktuelnost 0.004\\n', 'akumulirati 0.004\\n', 'angažman 0.004\\n', 'angažovanja 0.004\\n', 'ankete 0.004\\n', 'anticiklon 0.004\\n', 'apelujući 0.3382\\n', 'aplauz 0.0871\\n', 'aplauzi 0.0871\\n', 'apsolutno 0.2418\\n', 'atrakcija 0.004\\n', 'atrakcije 0.004\\n', 'atraktivno 0.2162\\n', 'atraktivnost 0.004\\n', 'atraktivnosti 0.004\\n', 'autentično 0.1885\\n', 'autentičnost 0.004\\n', 'autonomija 0.004\\n', 'autonomije 0.004\\n', 'autonomno 0.004\\n', 'azuriranje 0.004\\n', 'balansiranje 0.004\\n', 'beneficija 0.004\\n', 'beneficije 0.004\\n', 'benefit 0.004\\n', 'besmrtnost 0.004\\n', 'besplatno 0.004\\n', 'bezbednost 0.004\\n', 'bezgraničnost 0.004\\n', 'blago 0.004\\n', 'blagostanje 0.004\\n', 'blaženstvo 0.004\\n', 'bodrenje 0.004\\n', 'bogatstvo 0.1246\\n', 'bolje 0.004\\n', 'bonus 0.004\\n', 'bonusi 0.004\\n', 'brak 0.004\\n', 'brakovi 0.004\\n', 'branilac 0.004\\n', 'bratstvo 0.004\\n', 'briga 0.004\\n', 'brzina 0.004\\n', 'budjenje 0.004\\n', 'budnost 0.004\\n', 'cenjeno 0.004\\n', 'ceremonija 0.004\\n', 'cilj 0.004\\n', 'culo 0.004\\n', 'cvetati 0.004\\n', 'cveće 0.004\\n', 'dalekovidost 0.004\\n', 'darovit 0.004\\n', 'delo 0.004\\n', 'detalj 0.004\\n', 'dešifrovanje 0.004\\n', 'dinamički 0.004\\n', 'disciplina 0.0611\\n', 'discipline 0.0611\\n', 'diskrecija 0.004\\n', 'divota 0.004\\n', 'dobit 0.004\\n', 'dobro 0.004\\n', 'dobrota 0.004\\n', 'dobrotvor 0.004\\n', 'dobrotvorno 0.004\\n', 'dobročinstvo 0.004\\n', 'dodaj 0.004\\n', 'dodatak 0.0882\\n', 'dohodak 0.004\\n', 'dominirati 0.4635\\n', 'donacija 0.004\\n', 'donacije 0.004\\n', 'donator 0.004\\n', 'donatori 0.004\\n', 'doprineti 0.004\\n', 'doslednost 0.004\\n', 'dostignuće 0.0884\\n', 'dostojanstvo 0.004\\n', 'dovoljno 0.004\\n', 'dozvola 0.004\\n', 'dozvole 0.004\\n', 'dragocenost 0.004\\n', 'dugovečnost 0.004\\n', 'efikasnost 0.004\\n', 'ekselencija 0.004\\n', 'ekselencije 0.004\\n', 'ekspertiza 0.004\\n', 'ekstenzija 0.004\\n', 'elegancija 0.004\\n', 'empatija 0.004\\n', 'entuzijazam 0.2182\\n', 'fantazija 0.075\\n', 'fascinacija 0.004\\n', 'favorites 0.0873\\n', 'favoriti 0.04565\\n', 'favorizovanje 0.004\\n', 'favorizovati 0.004\\n', 'favorizuje 0.004\\n', 'festivali 0.2346\\n', 'finansijer 0.004\\n', 'finansijeri 0.004\\n', 'finansijski 0.004\\n', 'finansiranje 0.004\\n', 'fitnes 0.004\\n', 'fleksibilnost 0.004\\n', 'fondacija 0.004\\n', 'funkcionisanje 0.004\\n', 'garancija 0.004\\n', 'garancije 0.004\\n', 'garderoba 0.004\\n', 'genijalnost 0.004\\n', 'genije 0.0697\\n', 'glamur 0.004\\n', 'glas 0.004\\n', 'glasanje 0.004\\n', 'glasati 0.004\\n', 'godisnjica 0.004\\n', 'gore 0.004\\n', 'gostoprimstvo 0.004\\n', 'gozba 0.2346\\n', 'graditi 0.004\\n', 'grejanje 0.004\\n', 'grlo 0.004\\n', 'harizma 0.004\\n', 'harmonija 0.0795\\n', 'hrabrost 0.6093\\n', 'humanost 0.004\\n', 'humor 0.3296\\n', 'impresioniran 0.2126\\n', 'impresivna 0.3408\\n', 'inauguracija 0.004\\n', 'individualnost 0.004\\n', 'individualnosti 0.004\\n', 'inovacije 0.004\\n', 'inspiracija 0.004\\n', 'inspiracije 0.004\\n', 'integritet 0.004\\n', 'intelekt 0.004\\n', 'inteligencija 0.004\\n', 'inteligencije 0.004\\n', 'interes 0.004\\n', 'investicije 0.004\\n', 'investicioni 0.004\\n', 'iskreno 0.004\\n', 'iskrenost 0.004\\n', 'iskustva 0.004\\n', 'iskustvo 0.046200000000000005\\n', 'ispravka 0.004\\n', 'ispravke 0.004\\n', 'ispravnost 0.004\\n', 'ispunjenja 0.004\\n', 'ispunjenje 0.004\\n', 'istaknuti 0.004\\n', 'istaknutiji 0.3146\\n', 'istina 0.004\\n', 'istrajnost 0.004\\n', 'izabrano 0.004\\n', 'izbalansiran 0.0987\\n', 'izbeglica 0.004\\n', 'izdržati 0.004\\n', 'izdržljivost 0.0886\\n', 'izuzetan 0.4515\\n', 'izuzetno 0.3395\\n', 'izvanredno 0.3395\\n', 'izveštaji 0.004\\n', 'jasnoca 0.004\\n', 'jača 0.004\\n', 'jačina 0.004\\n', 'jedinstvenost 0.004\\n', 'jedinstvo 0.004\\n', 'jednakost 0.004\\n', 'kapacitet 0.004\\n', 'kapital 0.004\\n', 'klicanje 0.004\\n', 'kohezija 0.1947\\n', 'komemoracija 0.004\\n', 'kompatibilnost 0.004\\n', 'kompenzacija 0.004\\n', 'kompletna 0.004\\n', 'kompliment 0.3323\\n', 'kompromis 0.004\\n', 'komunikacija 0.004\\n', 'komunikacije 0.004\\n', 'konsenzus 0.004\\n', 'konsolidacija 0.004\\n', 'konsolidacije 0.004\\n', 'konsultacija 0.004\\n', 'konsultacije 0.004\\n', 'kontinuitet 0.004\\n', 'koordinacija 0.004\\n', 'korekcija 0.004\\n', 'korekcije 0.004\\n', 'korist 0.004\\n', 'kraj 0.004\\n', 'kreativnost 0.0768\\n', 'kredibilitet 0.004\\n', 'kredit 0.004\\n', 'kreditni 0.004\\n', 'kupovina 0.004\\n', 'kupovine 0.004\\n', 'kupovinu 0.004\\n', 'kvalifikacije 0.004\\n', 'kvalifikacioni 0.004\\n', 'kvalitet 0.004\\n', 'kvaliteti 0.004\\n', 'lecenje 0.004\\n', 'legitimitet 0.004\\n', 'lek 0.044950000000000004\\n', 'lekovi 0.044950000000000004\\n', 'lepota 0.3286\\n', 'liberalizam 0.004\\n', 'licence 0.004\\n', 'lift 0.004\\n', 'ljubav 0.051250000000000004\\n', 'ljubaznost 0.004\\n', 'ljubaznosti 0.0913\\n', 'ljuljaška 0.0238\\n', 'lojalnost 0.004\\n', 'lukav 0.004\\n', 'luksuzni 0.004\\n', 'magija 0.004\\n', 'maksimalni 0.004\\n', 'marljivost 0.3113\\n', 'mekoća 0.004\\n', 'melodija 0.004\\n', 'mera 0.004\\n', 'milosrdne 0.0744\\n', 'milost 0.004\\n', 'milostiv 0.0744\\n', 'mir 0.25285\\n', 'miran 0.004\\n', 'miris 0.2149\\n', 'mirisi 0.2149\\n', 'mobilnost 0.004\\n', 'modernizacija 0.004\\n', 'modernost 0.004\\n', 'moral 0.004\\n', 'motivacija 0.004\\n', 'motivacioni 0.004\\n', 'mudrost 0.004\\n', 'nada 0.2038\\n', 'nadaren 0.004\\n', 'nade 0.2038\\n', 'nadležnost 0.004\\n', 'nadogradnja 0.004\\n', 'nadogradnje 0.004\\n', 'nadoknaditi 0.004\\n', 'nagrada 0.065975\\n', 'nagrade 0.04265\\n', 'nagrađena 0.3146\\n', 'najbolje 0.004\\n', 'najneobičniji 0.3395\\n', 'najviše 0.2344\\n', 'nakit 0.004\\n', 'naknada 0.004\\n', 'napredak 0.004\\n', 'napredovanje 0.004\\n', 'napretku 0.004\\n', 'narocito 0.5391\\n', 'naselja 0.004\\n', 'naselje 0.004\\n', 'naslednici 0.004\\n', 'nasleđe 0.004\\n', 'nasrtanje 0.004\\n', 'navala 0.004\\n', 'navija 0.004\\n', 'navijanje 0.004\\n', 'nazdravlja 0.3265\\n', 'nazdravljaju 0.3265\\n', 'nedodirljivost 0.004\\n', 'neobično 0.3395\\n', 'neodoljivost 0.004\\n', 'neophodnost 0.004\\n', 'nepogrešivost 0.004\\n', 'nepristrasnost 0.004\\n', 'neranjivost 0.004\\n', 'neustrašivost 0.004\\n', 'nevinost 0.004\\n', 'nezavisna 0.004\\n', 'nezavisnost 0.004\\n', 'nežno 0.004\\n', 'nivo 0.004\\n', 'njuh 0.2216\\n', 'nositi 0.004\\n', 'nosivost 0.004\\n', 'nosivosti 0.004\\n', 'novosti 0.004\\n', 'oaza 0.004\\n', 'obaveza 0.2157\\n', 'obezbedi 0.004\\n', 'obećanje 0.004\\n', 'obećavajući 0.004\\n', 'obnavljanje 0.004\\n', 'obnovljanje 0.004\\n', 'obogati 0.0718\\n', 'obogaćenje 0.004\\n', 'obogaćivanje 0.004\\n', 'obogaćuje 0.0718\\n', 'obozavaoci 0.004\\n', 'obožavanje 0.004\\n', 'obrazovanje 0.004\\n', 'obuciti 0.004\\n', 'obuhvatajući 0.004\\n', 'obuka 0.004\\n', 'odanost 0.2019\\n', 'odbrana 0.004\\n', 'odgovara 0.2344\\n', 'odgovornost 0.004\\n', 'odgovornosti 0.004\\n', 'odluka 0.0804\\n', 'odobrenja 0.004\\n', 'odobrenje 0.004\\n', 'održivost 0.004\\n', 'ohrabrenje 0.004\\n', 'ohrabrujući 0.004\\n', 'ojačanje 0.004\\n', 'okosnica 0.004\\n', 'okretan 0.1959\\n', 'okupljanje 0.004\\n', 'olakšanje 0.004\\n', 'olakšice 0.0875\\n', 'omiljeni 0.066475\\n', 'opcija 0.004\\n', 'opcije 0.004\\n', 'opojeno 0.0809\\n', 'oporavak 0.004\\n', 'oporaviti 0.004\\n', 'oprez 0.004\\n', 'opreza 0.004\\n', 'optimalnost 0.004\\n', 'optimist 0.0836\\n', 'optimisti 0.0836\\n', 'optimizam 0.0882\\n', 'organizacije 0.004\\n', 'originalni 0.1885\\n', 'originalnost 0.004\\n', 'osecanje 0.004\\n', 'osećaj 0.0884\\n', 'osiguranje 0.004\\n', 'oslobadjanje 0.004\\n', 'oslobađajuća 0.004\\n', 'oslobađajuće 0.004\\n', 'oslobodjenje 0.004\\n', 'oslobođen 0.004\\n', 'otkup 0.004\\n', 'otpor 0.004\\n', 'ozbiljnost 0.004\\n', 'oživi 0.004\\n', 'pamet 0.004\\n', 'partneri 0.004\\n', 'partnerski 0.0779\\n', 'partnerstva 0.0779\\n', 'pažnja 0.004\\n', 'pažnje 0.004\\n', 'penjanje 0.004\\n', 'penje 0.004\\n', 'perfekcionista 0.004\\n', 'perfekcionisti 0.004\\n', 'perfekcionizam 0.004\\n', 'pionirski 0.004\\n', 'plata 0.004\\n', 'plodnost 0.004\\n', 'plovnost 0.004\\n', 'pobeda 0.004\\n', 'pobednici 0.004\\n', 'pobednik 0.004\\n', 'poboljsati 0.004\\n', 'poboljšan 0.004\\n', 'poboljšanja 0.004\\n', 'poboljšanje 0.004\\n', 'poboljšati 0.004\\n', 'podešavanje 0.004\\n', 'podici 0.004\\n', 'podizanje 0.004\\n', 'podrska 0.004\\n', 'podrška 0.004\\n', 'podršku 0.004\\n', 'podsticaj 0.004\\n', 'podsticanje 0.004\\n', 'podsticati 0.004\\n', 'pogodba 0.004\\n', 'pogodnosti 0.004\\n', 'pohvala 0.52845\\n', 'pohvalno 0.004\\n', 'pojačanje 0.004\\n', 'pojednostavljenje 0.004\\n', 'poklon 0.27695000000000003\\n', 'pokloni 0.4792\\n', 'pokrivenost 0.004\\n', 'pokrovitelj 0.004\\n', 'pokrovitelji 0.004\\n', 'pokroviteljstvo 0.004\\n', 'pomilovanja 0.004\\n', 'pomilovanje 0.004\\n', 'pomirenje 0.004\\n', 'pomoc 0.004\\n', 'ponizan 0.0956\\n', 'ponos 0.0797\\n', 'ponuda 0.03755\\n', 'ponude 0.0711\\n', 'popravke 0.004\\n', 'popularan 0.2172\\n', 'popularniji 0.2172\\n', 'popularnost 0.004\\n', 'popustljivost 0.004\\n', 'porast 0.004\\n', 'poseban 0.004\\n', 'posedovanje 0.004\\n', 'postignuća 0.0884\\n', 'postojanost 0.004\\n', 'posveta 0.004\\n', 'potencija 0.004\\n', 'potpunost 0.004\\n', 'potraživanja 0.004\\n', 'potražnja 0.004\\n', 'potvrda 0.004\\n', 'potvrde 0.004\\n', 'potvrđuju 0.004\\n', 'potvrđujući 0.004\\n', 'pouzdan 0.004\\n', 'pouzdanost 0.004\\n', 'pouzdanosti 0.004\\n', 'poverenik 0.004\\n', 'poverenje 0.21195\\n', 'poveriti 0.004\\n', 'povećanje 0.004\\n', 'povećava 0.004\\n', 'povratak 0.0376\\n', 'povratkom 0.0712\\n', 'povratku 0.0712\\n', 'pozdraviti 0.004\\n', 'pozdravljati 0.004\\n', 'pozitivnost 0.004\\n', 'poznato 0.004\\n', 'poštovalac 0.004\\n', 'poštovanje 0.004\\n', 'poželjno 0.004\\n', 'praktičnost 0.004\\n', 'pravda 0.004\\n', 'pravednost 0.004\\n', 'pravo 0.004\\n', 'praznik 0.2346\\n', 'preciscavanje 0.004\\n', 'precizno 0.004\\n', 'preciznost 0.004\\n', 'predanost 0.2157\\n', 'prednosti 0.004\\n', 'predusetljivost 0.004\\n', 'preferencija 0.004\\n', 'preferencije 0.004\\n', 'premija 0.004\\n', 'preporuka 0.004\\n', 'preporuke 0.004\\n', 'prepoznati 0.004\\n', 'prestiž 0.004\\n', 'preventiva 0.004\\n', 'pridruživanje 0.004\\n', 'prihod 0.004\\n', 'prihodi 0.004\\n', 'prihvatanje 0.004\\n', 'prihvatiti 0.004\\n', 'prihvatljiv 0.004\\n', 'prihvatljivo 0.004\\n', 'prihvatljivost 0.004\\n', 'prijatelj 0.0116\\n', 'prijatelji 0.0116\\n', 'prijateljstva 0.2059\\n', 'prijateljstvo 0.2059\\n', 'prijatelju 0.0116\\n', 'prijatno 0.3447\\n', 'prijatnost 0.004\\n', 'prikladno 0.004\\n', 'prilagoditi 0.004\\n', 'prilagodljivo 0.0799\\n', 'prilagodljivost 0.004\\n', 'prilagođavanja 0.004\\n', 'priložiti 0.004\\n', 'primer 0.004\\n', 'priprema 0.004\\n', 'pristojno 0.0977\\n', 'pristojnost 0.004\\n', 'pristojnosti 0.004\\n', 'pristup 0.004\\n', 'pristupanja 0.004\\n', 'pristupanje 0.004\\n', 'pristupačnost 0.004\\n', 'pristupi 0.004\\n', 'pristupiti 0.004\\n', 'privilegija 0.004\\n', 'privlacno 0.2162\\n', 'privući 0.004\\n', 'priznanja 0.0855\\n', 'priznat 0.0785\\n', 'priznato 0.004\\n', 'priznavanje 0.0855\\n', 'procesuirati 0.004\\n', 'produktivnost 0.004\\n', 'produziti 0.004\\n', 'produžetak 0.004\\n', 'profit 0.004\\n', 'profitabilnost 0.004\\n', 'proizvod 0.004\\n', 'proizvoda 0.004\\n', 'proizvodi 0.004\\n', 'promišljeno 0.004\\n', 'promocija 0.0829\\n', 'promocije 0.0829\\n', 'proporcionalno 0.004\\n', 'prosireno 0.004\\n', 'proslava 0.0829\\n', 'proslave 0.0829\\n', 'prosperitet 0.004\\n', 'prostranost 0.004\\n', 'prosvećenje 0.004\\n', 'proširiti 0.004\\n', 'pružajući 0.004\\n', 'prvenstvo 0.004\\n', 'prvi 0.004\\n', 'punjenje 0.004\\n', 'punoća 0.004\\n', 'radišnost 0.3113\\n', 'raj 0.004\\n', 'rasplesti 0.004\\n', 'raspoloženja 0.1085\\n', 'rast 0.004\\n', 'razlikovati 0.004\\n', 'razlog 0.004\\n', 'razmatranje 0.004\\n', 'raznovrsni 0.5797\\n', 'raznovrsnost 0.004\\n', 'razum 0.004\\n', 'razumevanje 0.004\\n', 'razvedriti 0.004\\n', 'realizacija 0.004\\n', 'realizacije 0.004\\n', 'red 0.004\\n', 'redovnost 0.004\\n', 'regrutovanje 0.004\\n', 'rehabilitacija 0.004\\n', 'rekreacija 0.0865\\n', 'rekreaciju 0.0865\\n', 'relaksacija 0.0875\\n', 'relevantnost 0.004\\n', 'relevantnosti 0.004\\n', 'remek 0.004\\n', 'renoviranje 0.004\\n', 'reosiguranje 0.004\\n', 'reparacija 0.004\\n', 'reprezentativno 0.0931\\n', 'restauracija 0.004\\n', 'revolucionarno 0.004\\n', 'rešenje 0.004\\n', 'robusnost 0.004\\n', 'romantika 0.0688\\n', 'saglasnost 0.004\\n', 'sala 0.004\\n', 'samilostan 0.0744\\n', 'samostalna 0.004\\n', 'saosećajan 0.0744\\n', 'saosećanje 0.004\\n', 'saradnja 0.046650000000000004\\n', 'satisfakcija 0.004\\n', 'saveti 0.004\\n', 'savez 0.004\\n', 'savezi 0.004\\n', 'savezni 0.004\\n', 'saveznik 0.004\\n', 'savršenstvo 0.004\\n', 'senzacija 0.004\\n', 'shvatanje 0.004\\n', 'sigurnost 0.004\\n', 'sila 0.004\\n', 'simbioza 0.004\\n', 'simpatija 0.004\\n', 'sjaj 0.004\\n', 'sjaja 0.004\\n', 'skociti 0.004\\n', 'skok 0.004\\n', 'skroman 0.0956\\n', 'skromnost 0.0852\\n', 'skupo 0.004\\n', 'slava 0.004\\n', 'slave 0.004\\n', 'slavlje 0.004\\n', 'sloboda 0.004\\n', 'slobode 0.004\\n', 'sloziti 0.004\\n', 'sminka 0.004\\n', 'smiren 0.004\\n', 'smiruju 0.004\\n', 'snabdevanje 0.004\\n', 'snaga 0.004\\n', 'snalažljivost 0.004\\n', 'sofisticiran 0.2216\\n', 'solidarnost 0.004\\n', 'spas 0.0707\\n', 'specijalitet 0.004\\n', 'sporazum 0.004\\n', 'sporazuma 0.004\\n', 'spreman 0.004\\n', 'spremniji 0.004\\n', 'spremnost 0.004\\n', 'spretnost 0.004\\n', 'sreća 0.2452\\n', 'stabilnost 0.004\\n', 'stedljivost 0.004\\n', 'stil 0.3398\\n', 'stimulacija 0.004\\n', 'strahopoštovanje 0.004\\n', 'strast 0.004\\n', 'strasti 0.004\\n', 'strpljenje 0.0789\\n', 'stručan 0.004\\n', 'stručnjaci 0.004\\n', 'stručnost 0.004\\n', 'subvencija 0.004\\n', 'subvencije 0.004\\n', 'sudbina 0.004\\n', 'superlativ 0.004\\n', 'suplement 0.004\\n', 'suplementi 0.004\\n', 'susedstvo 0.0911\\n', 'svetilište 40.0\\n', 'svečanost 0.004\\n', 'svidjanje 0.3349\\n', 'talenat 0.3352\\n', 'tačnost 0.004\\n', 'temeljitost 0.004\\n', 'tendencija 0.004\\n', 'težnja 0.004\\n', 'tolerancija 0.004\\n', 'tolerancije 0.004\\n', 'toplota 0.004\\n', 'tradicija 0.004\\n', 'tradicije 0.004\\n', 'traženo 0.004\\n', 'treasure 0.1096\\n', 'tretman 0.004\\n', 'tretmani 0.004\\n', 'tretmanu 0.004\\n', 'trijumf 0.004\\n', 'trofej 0.004\\n', 'tvrdnja 0.004\\n', 'ublaziti 0.1725\\n', 'ublažiti 0.004\\n', 'ubrzanja 0.004\\n', 'ubrzanje 0.004\\n', 'ubrzano 0.004\\n', 'ubrzati 0.004\\n', 'udobno 0.21755\\n', 'udobnost 0.1808\\n', 'udruženja 0.004\\n', 'ugled 0.004\\n', 'ugovor 0.004\\n', 'um 0.004\\n', 'umirenje 0.004\\n', 'umirujuće 0.2133\\n', 'univerzalan 0.004\\n', 'upornost 0.004\\n', 'upotrebljivost 0.004\\n', 'upoznavanje 0.004\\n', 'ura 0.004\\n', 'uravnotežen 0.0987\\n', 'uredno 0.1987\\n', 'uređenje 0.004\\n', 'usklađenost 0.004\\n', 'usklađivanje 0.004\\n', 'usluge 0.004\\n', 'uspeh 0.28055\\n', 'uspon 0.004\\n', 'uspravno 0.004\\n', 'uteha 0.0706\\n', 'uvećanje 0.004\\n', 'uzbuditi 0.4324\\n', 'uzbuđenje 0.0884\\n', 'uzbuđeno 0.4324\\n', 'učešće 0.004\\n', 'uštede 0.004\\n', 'uživanje 0.073\\n', 'užurbanost 0.004\\n', 'validnost 0.004\\n', 'varijanta 0.004\\n', 'vaskrsenja 0.004\\n', 'vaskrsenje 0.004\\n', 'važnije 0.004\\n', 'važno 0.004\\n', 'vedrina 0.0721\\n', 'velelepnost 0.004\\n', 'velicanstveno 0.004\\n', 'veličina 0.004\\n', 'veličine 0.004\\n', 'vera 0.004\\n', 'veridba 0.004\\n', 'verodostojnost 0.004\\n', 'veru 0.004\\n', 'veselje 0.004\\n', 'veselost 0.004\\n', 'veština 0.0466\\n', 'veštine 0.0466\\n', 'visok 0.004\\n', 'vitalnost 0.004\\n', 'vizionar 0.004\\n', 'vlasništvu 0.004\\n', 'vlastiti 0.004\\n', 'vodič 0.004\\n', 'vodiči 0.004\\n', 'volja 0.004\\n', 'vrednih 0.004\\n', 'vrednost 0.004\\n', 'vrhunac 0.004\\n', 'zabava 0.2429\\n', 'zadovoljavajuće 0.2152\\n', 'zadovoljiti 0.0809\\n', 'zadovoljno 0.4324\\n', 'zadovoljstva 0.36014999999999997\\n', 'zadovoljstvo 0.39366875\\n', 'zagrevati 0.004\\n', 'zahtev 0.004\\n', 'zahtevanje 0.004\\n', 'zahvalnost 0.004\\n', 'zajednica 0.004\\n', 'zajednice 0.004\\n', 'zajedništvo 0.004\\n', 'zakonitost 0.004\\n', 'zapamtiti 0.004\\n', 'zapanjujući 0.3261\\n', 'zarada 0.004\\n', 'zastita 0.004\\n', 'zastupanje 0.004\\n', 'zategnuti 0.004\\n', 'zatvaranje 0.004\\n', 'zauzet 0.004\\n', 'zavidan 0.004\\n', 'zavidno 0.004\\n', 'zavisnost 0.004\\n', 'završetak 0.004\\n', 'završni 0.004\\n', 'zdravica 0.3265\\n', 'zdravlje 0.004\\n', 'zenit 0.004\\n', 'zgodan 0.2344\\n', 'znaciti 0.004\\n', 'znanje 0.004\\n', 'značajan 0.4515\\n', 'značajnije 0.004\\n', 'značajnijih 0.004\\n', 'značajno 0.004\\n', 'značenja 0.004\\n', 'značenje 0.004\\n', 'čast 0.0732\\n', 'čekić 0.004\\n', 'čestitka 0.2193\\n', 'čistoća 0.03975\\n', 'čišćenje 0.004\\n', 'član 0.004\\n', 'čovečanstvo 0.004\\n', 'čudo 0.0741\\n', 'čula 0.004\\n', 'čuvani 0.004\\n', 'čuvanje 0.004\\n', 'šampion 0.004\\n', 'šampiona 0.004\\n', 'šarm 0.004\\n', 'štednja 0.004\\n', 'štednje 0.004\\n']\n"
     ]
    }
   ],
   "source": [
    "with open(\"../sent_ger_positive.txt\", \"r+\", encoding=\"utf8\") as f:\n",
    "    lines = f.readlines()\n",
    "lines.sort()\n",
    "print(lines)"
   ]
  },
  {
   "cell_type": "code",
   "execution_count": 50,
   "metadata": {},
   "outputs": [],
   "source": [
    "with open(\"../sent_ger_positive.txt\", \"r+\", encoding=\"utf8\") as f:\n",
    "    lines = f.readlines()\n",
    "lines.sort()\n",
    "\n",
    "dict = {}\n",
    "for line in lines:\n",
    "    words = line.split(\" \")\n",
    "    if words[0] in dict.keys():\n",
    "        if dict[words[0]] != float(words[1]):\n",
    "            dict[words[0]] = (dict[words[0]] + float(words[1])) / 2\n",
    "    else: \n",
    "        dict[words[0]] = float(words[1])\n",
    "                           \n",
    "with open(\"../sent_ger_positive.txt\", \"w+\", encoding=\"utf8\") as f:\n",
    "    for key, value in dict.items():\n",
    "        f.write(key + ',' + str(value) + '\\n')\n",
    "                               \n",
    "        "
   ]
  },
  {
   "cell_type": "code",
   "execution_count": 53,
   "metadata": {},
   "outputs": [],
   "source": [
    "filenames = ['../sent_ger_positive.txt', '../sent_ger_negative_sorted.txt']\n",
    "with open('../sent_ger_both.txt', 'w', encoding=\"utf8\") as outfile:\n",
    "    for fname in filenames:\n",
    "        with open(fname, encoding=\"utf8\") as infile:\n",
    "            for line in infile:\n",
    "                outfile.write(line)"
   ]
  },
  {
   "cell_type": "code",
   "execution_count": 55,
   "metadata": {},
   "outputs": [],
   "source": [
    "with open(\"../sent_ger_both.txt\", \"r+\", encoding=\"utf8\") as f:\n",
    "    lines = f.readlines()\n",
    "lines.sort()\n",
    "\n",
    "dict = {}\n",
    "for line in lines:\n",
    "    words = line.split(\",\")\n",
    "    if words[0] in dict.keys():\n",
    "        if dict[words[0]] != float(words[1]):\n",
    "            dict[words[0]] = (dict[words[0]] + float(words[1])) / 2\n",
    "    else: \n",
    "        dict[words[0]] = float(words[1])\n",
    "                           \n",
    "with open(\"../sent_ger_both.txt\", \"w+\", encoding=\"utf8\") as f:\n",
    "    for key, value in dict.items():\n",
    "        f.write(key + ',' + str(value) + '\\n')\n",
    "                               "
   ]
  }
 ],
 "metadata": {
  "kernelspec": {
   "display_name": "Python 3",
   "language": "python",
   "name": "python3"
  },
  "language_info": {
   "codemirror_mode": {
    "name": "ipython",
    "version": 3
   },
   "file_extension": ".py",
   "mimetype": "text/x-python",
   "name": "python",
   "nbconvert_exporter": "python",
   "pygments_lexer": "ipython3",
   "version": "3.7.1"
  }
 },
 "nbformat": 4,
 "nbformat_minor": 2
}
